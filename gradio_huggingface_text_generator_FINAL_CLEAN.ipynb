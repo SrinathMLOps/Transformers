{
  "cells": [
    {
      "cell_type": "markdown",
      "metadata": {},
      "source": [
        "# \ud83e\udd17 Hugging Face Text Generator with Gradio (Fully Documented)\n",
        "This notebook demonstrates how to build a text generator app using GPT-2 with Hugging Face Transformers and Gradio."
      ]
    },
    {
      "cell_type": "code",
      "execution_count": null,
      "metadata": {},
      "outputs": [],
      "source": [
        "# \u2705 STEP 1: Install compatible versions of all required libraries\n",
        "# Installing a compatible websockets version\n",
        "!pip install -q websockets==14.1\n",
        "\n",
        "# Installing all other required libraries (carefully versioned to avoid conflicts)\n",
        "!pip install -q \\\n",
        "  transformers==4.41.0 \\\n",
        "  torch==2.1.2 \\\n",
        "  sentence-transformers==4.1.0 \\\n",
        "  numpy==2.0.0 \\\n",
        "  websockets==14.1 \\\n",
        "  gradio==4.26.0"
      ]
    },
    {
      "cell_type": "code",
      "execution_count": null,
      "metadata": {},
      "outputs": [],
      "source": [
        "# \u2705 STEP 2: Import libraries\n",
        "from transformers import pipeline  # Load pre-trained models\n",
        "import gradio as gr  # Create user interfaces"
      ]
    },
    {
      "cell_type": "code",
      "execution_count": null,
      "metadata": {},
      "outputs": [],
      "source": [
        "# \u2705 STEP 3: Load the text generation model\n",
        "text_generator = pipeline(\"text-generation\")  # Default: GPT-2 model"
      ]
    },
    {
      "cell_type": "code",
      "execution_count": null,
      "metadata": {},
      "outputs": [],
      "source": [
        "# \u2705 STEP 4: Define the Gradio function with error handling\n",
        "def generate_text_gradio(prompt):\n",
        "    try:\n",
        "        if not prompt.strip():\n",
        "            return \"\u2757 Please enter a valid prompt.\"\n",
        "        output = text_generator(prompt, max_length=50, num_return_sequences=1)\n",
        "        return output[0]['generated_text']\n",
        "    except Exception as e:\n",
        "        return f\"\u274c An error occurred: {e}\""
      ]
    },
    {
      "cell_type": "code",
      "execution_count": null,
      "metadata": {},
      "outputs": [],
      "source": [
        "# \u2705 STEP 5: Launch Gradio interface\n",
        "iface = gr.Interface(\n",
        "    fn=generate_text_gradio,\n",
        "    inputs=gr.Textbox(lines=2, placeholder=\"Enter your prompt here...\"),\n",
        "    outputs=\"text\",\n",
        "    title=\"Hugging Face Text Generator with GPT-2\",\n",
        "    description=\"Generate text from a prompt using a pre-trained model.\"\n",
        ")\n",
        "iface.launch(share=True)"
      ]
    }
  ],
  "metadata": {
    "kernelspec": {
      "display_name": "Python 3",
      "language": "python",
      "name": "python3"
    },
    "language_info": {
      "name": "python",
      "version": "3.11"
    }
  },
  "nbformat": 4,
  "nbformat_minor": 2
}